{
 "cells": [
  {
   "cell_type": "code",
   "execution_count": 26,
   "metadata": {},
   "outputs": [],
   "source": [
    "import pandas as pd\n",
    "import numpy as np\n",
    "import dask.dataframe as dd\n",
    "import csv\n",
    "import pygal\n",
    "from pygal.style import Style\n",
    "import os\n",
    "import io\n",
    "import random\n",
    "from datetime import datetime\n",
    "from matplotlib import pyplot as plt"
   ]
  },
  {
   "cell_type": "code",
   "execution_count": 27,
   "metadata": {},
   "outputs": [
    {
     "name": "stdout",
     "output_type": "stream",
     "text": [
      "6452\n"
     ]
    }
   ],
   "source": [
    "df = pd.read_csv('https://raw.githubusercontent.com/ITCS4122Team8/ITCS4122Final/master/UNCCSampledSmall.csv')\n",
    "df.sort_values(by=['Visit_Number'], inplace= True)\n",
    "df['Form_Engagement_1'].fillna(0, inplace=True)\n",
    "df['Form_Engagement_2'].fillna(0, inplace=True)\n",
    "df['Visit_Number'].fillna(0, inplace=True)\n",
    "ser = df['Form_Engagement_1'].value_counts()\n",
    "def somecalulation(s, x):\n",
    "    return s[x]\n",
    "print(somecalulation(ser, 1))"
   ]
  },
  {
   "cell_type": "code",
   "execution_count": 28,
   "metadata": {},
   "outputs": [
    {
     "name": "stdout",
     "output_type": "stream",
     "text": [
      "10577\n"
     ]
    }
   ],
   "source": [
    "def somecalulation(s, x):\n",
    "    return s[x]\n",
    "print(somecalulation(ser, 0))"
   ]
  },
  {
   "cell_type": "code",
   "execution_count": 29,
   "metadata": {},
   "outputs": [
    {
     "data": {
      "text/plain": [
       "17029"
      ]
     },
     "execution_count": 29,
     "metadata": {},
     "output_type": "execute_result"
    }
   ],
   "source": [
    "x = 10577 + 6452\n",
    "x"
   ]
  },
  {
   "cell_type": "code",
   "execution_count": 30,
   "metadata": {},
   "outputs": [
    {
     "data": {
      "text/plain": [
       "0.3788830818016325"
      ]
     },
     "execution_count": 30,
     "metadata": {},
     "output_type": "execute_result"
    }
   ],
   "source": [
    "y = 6452 / 17029\n",
    "y"
   ]
  },
  {
   "cell_type": "code",
   "execution_count": 31,
   "metadata": {},
   "outputs": [
    {
     "name": "stdout",
     "output_type": "stream",
     "text": [
      "4478\n"
     ]
    }
   ],
   "source": [
    "ser = df['Form_Engagement_2'].value_counts()\n",
    "def somecalulation(s, x):\n",
    "    return s[x]\n",
    "print(somecalulation(ser, 1))"
   ]
  },
  {
   "cell_type": "code",
   "execution_count": 32,
   "metadata": {},
   "outputs": [
    {
     "name": "stdout",
     "output_type": "stream",
     "text": [
      "12551\n"
     ]
    }
   ],
   "source": [
    "ser = df['Form_Engagement_2'].value_counts()\n",
    "def somecalulation(s, x):\n",
    "    return s[x]\n",
    "print(somecalulation(ser, 0))"
   ]
  },
  {
   "cell_type": "code",
   "execution_count": 34,
   "metadata": {},
   "outputs": [
    {
     "data": {
      "text/plain": [
       "17029"
      ]
     },
     "execution_count": 34,
     "metadata": {},
     "output_type": "execute_result"
    }
   ],
   "source": [
    "a = 12551 + 4478\n",
    "a"
   ]
  },
  {
   "cell_type": "code",
   "execution_count": 36,
   "metadata": {},
   "outputs": [
    {
     "data": {
      "text/plain": [
       "0.2629631804568677"
      ]
     },
     "execution_count": 36,
     "metadata": {},
     "output_type": "execute_result"
    }
   ],
   "source": [
    "b = 4478 / 17029\n",
    "b"
   ]
  },
  {
   "cell_type": "code",
   "execution_count": 39,
   "metadata": {},
   "outputs": [],
   "source": [
    "gauge = pygal.SolidGauge(\n",
    "    half_pie=True, inner_radius=0.70,\n",
    "    style=pygal.style.styles['default'](value_font_size=10))\n",
    "\n",
    "percent_formatter = lambda x: '{:.10g}%'.format(x)\n",
    "dollar_formatter = lambda x: '{:.10g}'.format(x)\n",
    "gauge.value_formatter = percent_formatter\n",
    "gauge.add('Engagement 1', [{'value': 38, 'max_value': 100}])\n",
    "gauge.add('Engagement 2', [{'value': 27, 'max_value': 100}])\n",
    "gauge.render_to_file('https://raw.githubusercontent.com/ITCS4122Team8/ITCS4122Final/master/AyeshaWork/gauge.svg')"
   ]
  },
  {
   "cell_type": "code",
   "execution_count": null,
   "metadata": {},
   "outputs": [],
   "source": []
  }
 ],
 "metadata": {
  "kernelspec": {
   "display_name": "Python 3",
   "language": "python",
   "name": "python3"
  },
  "language_info": {
   "codemirror_mode": {
    "name": "ipython",
    "version": 3
   },
   "file_extension": ".py",
   "mimetype": "text/x-python",
   "name": "python",
   "nbconvert_exporter": "python",
   "pygments_lexer": "ipython3",
   "version": "3.6.5"
  }
 },
 "nbformat": 4,
 "nbformat_minor": 2
}
