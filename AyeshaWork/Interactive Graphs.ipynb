{
 "cells": [
  {
   "cell_type": "code",
   "execution_count": 439,
   "metadata": {},
   "outputs": [],
   "source": [
    "import pandas as pd\n",
    "import numpy as np\n",
    "import dask.dataframe as dd\n",
    "import csv\n",
    "import pygal\n",
    "from pygal.style import Style\n",
    "import os\n",
    "import io\n",
    "import random\n",
    "from datetime import datetime\n",
    "from matplotlib import pyplot as plt"
   ]
  },
  {
   "cell_type": "code",
   "execution_count": 446,
   "metadata": {},
   "outputs": [],
   "source": [
    "df = pd.read_csv('https://raw.githubusercontent.com/ITCS4122Team8/ITCS4122Final/master/UNCCSampledSmall.csv')\n",
    "df.sort_values(by=['Visit_Number'], inplace= True)\n",
    "df['Form_Engagement_1'].fillna(0, inplace=True)\n",
    "df['Form_Engagement_2'].fillna(0, inplace=True)\n",
    "df = df[df.Form_Engagement_1 != 0]\n",
    "df = df[df.Form_Engagement_1 != 2]\n",
    "df = df[df.Form_Engagement_2 != 0]\n",
    "df = df[df.Form_Engagement_2 != 2]\n",
    "df['Visit_Number'].fillna(0, inplace=True)\n",
    "df2 = df.groupby(['state']).count()[[\"Visit_Number\"]].reset_index().sort_values([\"state\",\"Visit_Number\"], ascending=True)\n",
    "df3 = df.groupby(['state']).count()[[\"Form_Engagement_1\"]].reset_index().sort_values([\"state\",\"Form_Engagement_1\"], ascending=True)\n",
    "df4 = df.groupby(['state']).count()[[\"Form_Engagement_2\"]].reset_index().sort_values([\"state\",\"Form_Engagement_2\"], ascending=True)\n",
    "df5 = df.groupby(['state']).count()[[\"Visit_Number\"]].reset_index().sort_values([\"state\",\"Visit_Number\"], ascending=True)\n",
    "df5 = df5.drop('Visit_Number', axis=1)"
   ]
  },
  {
   "cell_type": "code",
   "execution_count": 447,
   "metadata": {},
   "outputs": [],
   "source": [
    "bar_chart = pygal.Bar(show_x_labels = True, x_label_rotation=60)\n",
    "bar_chart.title = \"Number of Visits per State\"\n",
    "bar_chart.x_labels = df2['state']\n",
    "bar_chart.add('Visit Number', df2['Visit_Number'])\n",
    "bar_chart.render_to_file('https://raw.githubusercontent.com/ITCS4122Team8/ITCS4122Final/master/AyeshaWork/graph1.svg') "
   ]
  },
  {
   "cell_type": "code",
   "execution_count": 448,
   "metadata": {},
   "outputs": [],
   "source": [
    "custom_style = Style(colors=('#E853A0', '#E8537A', '#E95355', '#E87653', '#E89B53'))\n",
    "bar_chart = pygal.Bar(show_x_labels = True, x_label_rotation=60, style=custom_style)\n",
    "bar_chart.title = \"Number of Engagements on Form 1 per State\"\n",
    "bar_chart.x_labels = df2['state']\n",
    "bar_chart.add('Engagement 1', df3['Form_Engagement_1'])\n",
    "bar_chart.render_to_file('https://raw.githubusercontent.com/ITCS4122Team8/ITCS4122Final/master/AyeshaWork/graph2.svg') "
   ]
  },
  {
   "cell_type": "code",
   "execution_count": 449,
   "metadata": {},
   "outputs": [],
   "source": [
    "custom_style2 = Style(colors=('#E8537A', '#E95355', '#E87653', '#E89B53'))\n",
    "bar_chart = pygal.Bar(show_x_labels = True, x_label_rotation=60, style=custom_style2)\n",
    "bar_chart.title = \"Number of Engagements on Form 2 per State\"\n",
    "bar_chart.x_labels = df2['state']\n",
    "bar_chart.add('Engagement 2', df4['Form_Engagement_2'])\n",
    "bar_chart.render_to_file('https://raw.githubusercontent.com/ITCS4122Team8/ITCS4122Final/master/AyeshaWork/graph3.svg') "
   ]
  },
  {
   "cell_type": "code",
   "execution_count": null,
   "metadata": {},
   "outputs": [],
   "source": []
  },
  {
   "cell_type": "code",
   "execution_count": null,
   "metadata": {},
   "outputs": [],
   "source": []
  }
 ],
 "metadata": {
  "kernelspec": {
   "display_name": "Python 3",
   "language": "python",
   "name": "python3"
  },
  "language_info": {
   "codemirror_mode": {
    "name": "ipython",
    "version": 3
   },
   "file_extension": ".py",
   "mimetype": "text/x-python",
   "name": "python",
   "nbconvert_exporter": "python",
   "pygments_lexer": "ipython3",
   "version": "3.6.5"
  }
 },
 "nbformat": 4,
 "nbformat_minor": 2
}
