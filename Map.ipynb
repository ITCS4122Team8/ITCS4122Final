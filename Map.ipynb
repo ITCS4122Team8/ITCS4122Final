{
 "cells": [
  {
   "cell_type": "code",
   "execution_count": 1,
   "metadata": {},
   "outputs": [],
   "source": [
    "import pandas as pd\n",
    "import os\n",
    "import csv\n",
    "import folium as folium\n",
    "import numpy as np\n",
    "import matplotlib.pyplot as plt\n",
    "import scipy.stats as stats\n",
    "import seaborn as sns\n",
    "import json"
   ]
  },
  {
   "cell_type": "code",
   "execution_count": 2,
   "metadata": {},
   "outputs": [],
   "source": [
    "us_states = os.path.join('C:\\\\Users\\\\syeda\\\\Desktop\\\\Ayesha\\\\Visual Analytics', 'C:\\\\Users\\\\syeda\\\\Desktop\\\\Ayesha\\\\Visual Analytics\\\\us-states.json')\n",
    "geo_json_data = json.load(open(us_states))"
   ]
  },
  {
   "cell_type": "code",
   "execution_count": 3,
   "metadata": {},
   "outputs": [],
   "source": [
    "UNCC_sampled = os.path.join('https://raw.githubusercontent.com/ITCS4122Team8/ITCS4122Final/master/UNCCSampledSmall.csv')\n",
    "df = pd.read_csv(UNCC_sampled)"
   ]
  },
  {
   "cell_type": "code",
   "execution_count": 4,
   "metadata": {},
   "outputs": [],
   "source": [
    "m = folium.Map([43, -100], zoom_start=4)\n",
    "\n",
    "folium.Choropleth(geo_data=us_states).add_to(m)\n",
    "\n",
    "m.save(os.path.join('C:\\\\Users\\\\syeda\\\\Desktop\\\\Ayesha\\\\Visual Analytics', 'map.html'))"
   ]
  },
  {
   "cell_type": "code",
   "execution_count": 5,
   "metadata": {},
   "outputs": [],
   "source": [
    "m = folium.Map([43, -100], zoom_start=4)\n",
    "\n",
    "folium.Choropleth(\n",
    "    geo_data=us_states,\n",
    "    data=df,\n",
    "    columns=['state', 'Page_Views'],\n",
    "    key_on='feature.id',\n",
    "    fill_color='YlGn',\n",
    "    highlight=True\n",
    ").add_to(m)\n",
    "\n",
    "m.save(os.path.join('C:\\\\Users\\\\syeda\\\\Desktop\\\\Ayesha\\\\Visual Analytics', 'map.html'))"
   ]
  }
 ],
 "metadata": {
  "kernelspec": {
   "display_name": "Python 3",
   "language": "python",
   "name": "python3"
  },
  "language_info": {
   "codemirror_mode": {
    "name": "ipython",
    "version": 3
   },
   "file_extension": ".py",
   "mimetype": "text/x-python",
   "name": "python",
   "nbconvert_exporter": "python",
   "pygments_lexer": "ipython3",
   "version": "3.6.5"
  }
 },
 "nbformat": 4,
 "nbformat_minor": 2
}
